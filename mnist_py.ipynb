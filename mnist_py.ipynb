{
 "cells": [
  {
   "cell_type": "code",
   "execution_count": 1,
   "id": "bd97e8cd",
   "metadata": {},
   "outputs": [],
   "source": [
    "import tensorflow as tf\n",
    "from tensorflow.keras.datasets import mnist\n",
    "from tensorflow.keras.utils import to_categorical\n",
    "from tensorflow.keras.layers import Flatten, Dense\n",
    "from tensorflow.keras.losses import BinaryCrossentropy\n",
    "from keras import backend\n",
    "import matplotlib.pyplot as plt\n",
    "\n",
    "(x_train, y_train), (x_val, y_val) = mnist.load_data()\n",
    "\n",
    "x_train = x_train.astype('float32') / 255\n",
    "y_train = to_categorical(y_train)"
   ]
  },
  {
   "cell_type": "code",
   "execution_count": 2,
   "id": "c1a279fa",
   "metadata": {},
   "outputs": [
    {
     "name": "stdout",
     "output_type": "stream",
     "text": [
      "Epoch 1/10\n",
      "1875/1875 [==============================] - 5s 2ms/step - loss: 3.4175 - accuracy: 0.1559 - val_loss: 41.8621 - val_accuracy: 0.0172\n",
      "Epoch 2/10\n",
      "1875/1875 [==============================] - 4s 2ms/step - loss: 3.9083 - accuracy: 0.1209 - val_loss: 44.2585 - val_accuracy: 0.0172\n",
      "Epoch 3/10\n",
      "1875/1875 [==============================] - 4s 2ms/step - loss: 3.9234 - accuracy: 0.1209 - val_loss: 44.1603 - val_accuracy: 0.0172\n",
      "Epoch 4/10\n",
      "1875/1875 [==============================] - 4s 2ms/step - loss: 3.9319 - accuracy: 0.1209 - val_loss: 43.4597 - val_accuracy: 0.0172\n",
      "Epoch 5/10\n",
      "1875/1875 [==============================] - 4s 2ms/step - loss: 3.8806 - accuracy: 0.1209 - val_loss: 44.0298 - val_accuracy: 0.0172\n",
      "Epoch 6/10\n",
      "1875/1875 [==============================] - 4s 2ms/step - loss: 3.8800 - accuracy: 0.1209 - val_loss: 43.1684 - val_accuracy: 0.0172\n",
      "Epoch 7/10\n",
      "1875/1875 [==============================] - 4s 2ms/step - loss: 3.8552 - accuracy: 0.1209 - val_loss: 43.6688 - val_accuracy: 0.0172\n",
      "Epoch 8/10\n",
      "1875/1875 [==============================] - 4s 2ms/step - loss: 3.8387 - accuracy: 0.1209 - val_loss: 43.5237 - val_accuracy: 0.0172\n",
      "Epoch 9/10\n",
      "1875/1875 [==============================] - 2s 1ms/step - loss: 3.8266 - accuracy: 0.1209 - val_loss: 43.3949 - val_accuracy: 0.0172\n",
      "Epoch 10/10\n",
      "1875/1875 [==============================] - 2s 1ms/step - loss: 3.7795 - accuracy: 0.1209 - val_loss: 43.5890 - val_accuracy: 0.0172\n",
      "Model: \"sequential\"\n",
      "_________________________________________________________________\n",
      "Layer (type)                 Output Shape              Param #   \n",
      "=================================================================\n",
      "flatten (Flatten)            (None, 784)               0         \n",
      "_________________________________________________________________\n",
      "dense (Dense)                (None, 10)                7850      \n",
      "=================================================================\n",
      "Total params: 7,850\n",
      "Trainable params: 7,850\n",
      "Non-trainable params: 0\n",
      "_________________________________________________________________\n"
     ]
    }
   ],
   "source": [
    "# no hidden layers\n",
    "model1 = tf.keras.Sequential([\n",
    "    Flatten(input_shape=(28, 28)),    \n",
    "    Dense(10)\n",
    "])\n",
    "\n",
    "model1.compile(optimizer='SGD',\n",
    "              loss=BinaryCrossentropy(),\n",
    "              metrics=['accuracy'])\n",
    "backend.set_value(model1.optimizer.learning_rate, 0.25)\n",
    "\n",
    "model1_fit = model1.fit(x_train, y_train, epochs=10, validation_data=(x_val, y_val))\n",
    "\n",
    "model1.summary()"
   ]
  },
  {
   "cell_type": "code",
   "execution_count": 3,
   "id": "bee92db4",
   "metadata": {},
   "outputs": [
    {
     "name": "stdout",
     "output_type": "stream",
     "text": [
      "Epoch 1/10\n",
      "1875/1875 [==============================] - 3s 1ms/step - loss: 5.0494 - accuracy: 0.1447 - val_loss: 6.6371 - val_accuracy: 0.0000e+00\n",
      "Epoch 2/10\n",
      "1875/1875 [==============================] - 3s 1ms/step - loss: 7.4619 - accuracy: 0.0993 - val_loss: 6.6549 - val_accuracy: 0.0000e+00\n",
      "Epoch 3/10\n",
      "1875/1875 [==============================] - 4s 2ms/step - loss: 7.5161 - accuracy: 0.0993 - val_loss: 8.0129 - val_accuracy: 0.0000e+00\n",
      "Epoch 4/10\n",
      "1875/1875 [==============================] - 4s 2ms/step - loss: 7.5855 - accuracy: 0.0993 - val_loss: 8.0129 - val_accuracy: 0.0000e+00\n",
      "Epoch 5/10\n",
      "1875/1875 [==============================] - 4s 2ms/step - loss: 7.5855 - accuracy: 0.0993 - val_loss: 8.0129 - val_accuracy: 0.0000e+00\n",
      "Epoch 6/10\n",
      "1875/1875 [==============================] - 4s 2ms/step - loss: 7.5854 - accuracy: 0.0993 - val_loss: 8.0129 - val_accuracy: 0.0000e+00\n",
      "Epoch 7/10\n",
      "1875/1875 [==============================] - 4s 2ms/step - loss: 7.5854 - accuracy: 0.0993 - val_loss: 8.0129 - val_accuracy: 0.0000e+00\n",
      "Epoch 8/10\n",
      "1875/1875 [==============================] - 4s 2ms/step - loss: 7.5855 - accuracy: 0.0993 - val_loss: 8.0129 - val_accuracy: 0.0000e+00\n",
      "Epoch 9/10\n",
      "1875/1875 [==============================] - 4s 2ms/step - loss: 7.5854 - accuracy: 0.0993 - val_loss: 8.0129 - val_accuracy: 0.0000e+00\n",
      "Epoch 10/10\n",
      "1875/1875 [==============================] - 4s 2ms/step - loss: 7.5855 - accuracy: 0.0993 - val_loss: 8.0129 - val_accuracy: 0.0000e+00\n",
      "Model: \"sequential_1\"\n",
      "_________________________________________________________________\n",
      "Layer (type)                 Output Shape              Param #   \n",
      "=================================================================\n",
      "flatten_1 (Flatten)          (None, 784)               0         \n",
      "_________________________________________________________________\n",
      "dense_1 (Dense)              (None, 7)                 5495      \n",
      "_________________________________________________________________\n",
      "dense_2 (Dense)              (None, 10)                80        \n",
      "=================================================================\n",
      "Total params: 5,575\n",
      "Trainable params: 5,575\n",
      "Non-trainable params: 0\n",
      "_________________________________________________________________\n"
     ]
    }
   ],
   "source": [
    "# One hidden layer of 7 neurons\n",
    "model2 = tf.keras.Sequential([\n",
    "    Flatten(input_shape=(28, 28)),\n",
    "    Dense(7, activation='sigmoid'),    \n",
    "    Dense(10)\n",
    "])\n",
    "\n",
    "model2.compile(optimizer='SGD',\n",
    "              loss=BinaryCrossentropy(),\n",
    "              metrics=['accuracy'])\n",
    "backend.set_value(model2.optimizer.learning_rate, 0.25)\n",
    "\n",
    "model2_fit = model2.fit(x_train, y_train, epochs=10, validation_data=(x_val, y_val))\n",
    "\n",
    "model2.summary()"
   ]
  },
  {
   "cell_type": "code",
   "execution_count": 4,
   "id": "45ea0766",
   "metadata": {},
   "outputs": [
    {
     "name": "stdout",
     "output_type": "stream",
     "text": [
      "Epoch 1/10\n",
      "1875/1875 [==============================] - 5s 2ms/step - loss: 4.9236 - accuracy: 0.1333 - val_loss: 29.8646 - val_accuracy: 0.0643\n",
      "Epoch 2/10\n",
      "1875/1875 [==============================] - 4s 2ms/step - loss: 5.2167 - accuracy: 0.1381 - val_loss: 29.8646 - val_accuracy: 0.0643\n",
      "Epoch 3/10\n",
      "1875/1875 [==============================] - 4s 2ms/step - loss: 5.2167 - accuracy: 0.1381 - val_loss: 29.8646 - val_accuracy: 0.0643\n",
      "Epoch 4/10\n",
      "1875/1875 [==============================] - 4s 2ms/step - loss: 5.2167 - accuracy: 0.1381 - val_loss: 29.8646 - val_accuracy: 0.0643\n",
      "Epoch 5/10\n",
      "1875/1875 [==============================] - 4s 2ms/step - loss: 5.2167 - accuracy: 0.1381 - val_loss: 29.8646 - val_accuracy: 0.0643\n",
      "Epoch 6/10\n",
      "1875/1875 [==============================] - 3s 2ms/step - loss: 5.2167 - accuracy: 0.1381 - val_loss: 29.8646 - val_accuracy: 0.0643\n",
      "Epoch 7/10\n",
      "1875/1875 [==============================] - 3s 2ms/step - loss: 5.2167 - accuracy: 0.1381 - val_loss: 29.8646 - val_accuracy: 0.0643\n",
      "Epoch 8/10\n",
      "1875/1875 [==============================] - 4s 2ms/step - loss: 5.2167 - accuracy: 0.1381 - val_loss: 29.8646 - val_accuracy: 0.0643\n",
      "Epoch 9/10\n",
      "1875/1875 [==============================] - 4s 2ms/step - loss: 5.2167 - accuracy: 0.1381 - val_loss: 29.8646 - val_accuracy: 0.0643\n",
      "Epoch 10/10\n",
      "1875/1875 [==============================] - 4s 2ms/step - loss: 5.2167 - accuracy: 0.1381 - val_loss: 29.8646 - val_accuracy: 0.0643\n",
      "Model: \"sequential_2\"\n",
      "_________________________________________________________________\n",
      "Layer (type)                 Output Shape              Param #   \n",
      "=================================================================\n",
      "flatten_2 (Flatten)          (None, 784)               0         \n",
      "_________________________________________________________________\n",
      "dense_3 (Dense)              (None, 49)                38465     \n",
      "_________________________________________________________________\n",
      "dense_4 (Dense)              (None, 10)                500       \n",
      "=================================================================\n",
      "Total params: 38,965\n",
      "Trainable params: 38,965\n",
      "Non-trainable params: 0\n",
      "_________________________________________________________________\n"
     ]
    }
   ],
   "source": [
    "# One hidden layer with 49 neurons\n",
    "model3 = tf.keras.Sequential([\n",
    "    Flatten(input_shape=(28, 28)),\n",
    "    Dense(49, activation='sigmoid'),    \n",
    "    Dense(10)\n",
    "])\n",
    "\n",
    "model3.compile(optimizer='SGD',\n",
    "              loss=BinaryCrossentropy(),\n",
    "              metrics=['accuracy'])\n",
    "backend.set_value(model3.optimizer.learning_rate, 0.25)\n",
    "\n",
    "model3_fit = model3.fit(x_train, y_train, epochs=10, validation_data=(x_val, y_val))\n",
    "\n",
    "model3.summary()"
   ]
  },
  {
   "cell_type": "code",
   "execution_count": 5,
   "id": "1c8c2b0b",
   "metadata": {},
   "outputs": [
    {
     "data": {
      "image/png": "[encoded data removed]",
      "text/plain": [
       "<Figure size 432x288 with 1 Axes>"
      ]
     },
     "metadata": {
      "needs_background": "light"
     },
     "output_type": "display_data"
    }
   ],
   "source": [
    "val1_loss   = model1_fit.history['val_loss']\n",
    "val2_loss   = model2_fit.history['val_loss']\n",
    "val3_loss   = model3_fit.history['val_loss']\n",
    "\n",
    "xc         = range(10)\n",
    "\n",
    "plt.figure()\n",
    "plt.plot(xc, val1_loss,'red')\n",
    "plt.plot(xc, val2_loss,'blue')\n",
    "plt.plot(xc, val3_loss,'green')\n",
    "plt.show()"
   ]
  },
  {
   "cell_type": "code",
   "execution_count": 6,
   "id": "f774f2fe",
   "metadata": {},
   "outputs": [],
   "source": [
    "# print(model1.history['loss'])"
   ]
  },
  {
   "cell_type": "code",
   "execution_count": 7,
   "id": "06818b35",
   "metadata": {},
   "outputs": [],
   "source": [
    "# plt.plot(list(model1.history.values())[0],'k-o')"
   ]
  },
  {
   "cell_type": "code",
   "execution_count": null,
   "id": "6a0814f1",
   "metadata": {},
   "outputs": [],
   "source": []
  },
  {
   "cell_type": "code",
   "execution_count": null,
   "id": "b5a7df10",
   "metadata": {},
   "outputs": [],
   "source": []
  }
 ],
 "metadata": {
  "kernelspec": {
   "display_name": "Python 3",
   "language": "python",
   "name": "python3"
  },
  "language_info": {
   "codemirror_mode": {
    "name": "ipython",
    "version": 3
   },
   "file_extension": ".py",
   "mimetype": "text/x-python",
   "name": "python",
   "nbconvert_exporter": "python",
   "pygments_lexer": "ipython3",
   "version": "3.8.8"
  }
 },
 "nbformat": 4,
 "nbformat_minor": 5
}
